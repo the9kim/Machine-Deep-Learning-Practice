{
  "nbformat": 4,
  "nbformat_minor": 0,
  "metadata": {
    "colab": {
      "provenance": [],
      "authorship_tag": "ABX9TyPU5qGy/COeiwc9y9LRVutD",
      "include_colab_link": true
    },
    "kernelspec": {
      "name": "python3",
      "display_name": "Python 3"
    },
    "language_info": {
      "name": "python"
    }
  },
  "cells": [
    {
      "cell_type": "markdown",
      "metadata": {
        "id": "view-in-github",
        "colab_type": "text"
      },
      "source": [
        "<a href=\"https://colab.research.google.com/github/the9kim/Machine-Deep-Learning-Practice/blob/main/K_NNRegression.ipynb\" target=\"_parent\"><img src=\"https://colab.research.google.com/assets/colab-badge.svg\" alt=\"Open In Colab\"/></a>"
      ]
    },
    {
      "cell_type": "markdown",
      "source": [
        "# K-Nearest Neighbor Regression Model\n",
        "- The K-NN Regression model makes predictions by finding the k closest neighbors and averaging their target values."
      ],
      "metadata": {
        "id": "HvD1xK10bVqY"
      }
    },
    {
      "cell_type": "markdown",
      "source": [
        "### 1. Data Preparation and Preprocessing"
      ],
      "metadata": {
        "id": "U-Sdh6BFccs9"
      }
    },
    {
      "cell_type": "code",
      "source": [
        "import numpy as np\n",
        "import matplotlib.pyplot as plt\n",
        "\n",
        "perch_length = np.array([8.4, 13.7, 15.0, 16.2, 17.4, 18.0, 18.7, 19.0, 19.6, 20.0, 21.0,\n",
        "       21.0, 21.0, 21.3, 22.0, 22.0, 22.0, 22.0, 22.0, 22.5, 22.5, 22.7,\n",
        "       23.0, 23.5, 24.0, 24.0, 24.6, 25.0, 25.6, 26.5, 27.3, 27.5, 27.5,\n",
        "       27.5, 28.0, 28.7, 30.0, 32.8, 34.5, 35.0, 36.5, 36.0, 37.0, 37.0,\n",
        "       39.0, 39.0, 39.0, 40.0, 40.0, 40.0, 40.0, 42.0, 43.0, 43.0, 43.5,\n",
        "       44.0])\n",
        "\n",
        "perch_weight = np.array([5.9, 32.0, 40.0, 51.5, 70.0, 100.0, 78.0, 80.0, 85.0, 85.0, 110.0,\n",
        "       115.0, 125.0, 130.0, 120.0, 120.0, 130.0, 135.0, 110.0, 130.0,\n",
        "       150.0, 145.0, 150.0, 170.0, 225.0, 145.0, 188.0, 180.0, 197.0,\n",
        "       218.0, 300.0, 260.0, 265.0, 250.0, 250.0, 300.0, 320.0, 514.0,\n",
        "       556.0, 840.0, 685.0, 700.0, 700.0, 690.0, 900.0, 650.0, 820.0,\n",
        "       850.0, 900.0, 1015.0, 820.0, 1100.0, 1000.0, 1100.0, 1000.0,\n",
        "       1000.0])\n",
        "\n",
        "plt.scatter(perch_length, perch_weight)\n",
        "plt.xlabel('length')\n",
        "plt.ylabel('weight')\n",
        "plt.show()"
      ],
      "metadata": {
        "colab": {
          "base_uri": "https://localhost:8080/",
          "height": 449
        },
        "id": "zIg8qdXnTZMe",
        "outputId": "9d44f068-ca6a-41b4-cfd5-06a0f8108c95"
      },
      "execution_count": 102,
      "outputs": [
        {
          "output_type": "display_data",
          "data": {
            "text/plain": [
              "<Figure size 640x480 with 1 Axes>"
            ],
            "image/png": "[encoded data removed]"
          },
          "metadata": {}
        }
      ]
    },
    {
      "cell_type": "code",
      "source": [
        "from sklearn.model_selection import train_test_split\n",
        "\n",
        "train_input, test_input, train_target, test_target = train_test_split(perch_length, perch_weight, random_state=42)\n",
        "\n",
        "# The training data needs to be reshaped because the training set should be a 2-Dimensional array\n",
        "train_input = train_input.reshape(-1, 1)\n",
        "test_input = test_input.reshape(-1, 1)\n",
        "\n"
      ],
      "metadata": {
        "id": "yR22mJENVTYg"
      },
      "execution_count": 103,
      "outputs": []
    },
    {
      "cell_type": "markdown",
      "source": [
        "## 2. Trainig K-NN Regression Model\n",
        "\n",
        "### Coefficient of determination\n",
        "\n",
        "![image.png](data:image/png;base64,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)\n",
        "\n",
        "\n",
        "- SS\n",
        "res\n",
        "​\n",
        "  (Residual Sum of Squares) is the sum of the squared differences between the observed values and the values predicted by the model.\n",
        "- SS\n",
        "tot\n",
        "​\n",
        "  (Total Sum of Squares) is the sum of the squared differences between the observed values and the mean of the observed values."
      ],
      "metadata": {
        "id": "DAUT6qgfdJeY"
      }
    },
    {
      "cell_type": "code",
      "source": [
        "from sklearn.neighbors import KNeighborsRegressor\n",
        "\n",
        "knr = KNeighborsRegressor()\n",
        "knr.fit(train_input, train_target)\n",
        "knr.score(test_input, test_target)"
      ],
      "metadata": {
        "colab": {
          "base_uri": "https://localhost:8080/"
        },
        "id": "mm2SLVgoW3ez",
        "outputId": "d65639a4-f568-4c6e-f1ee-5c156bf8a897"
      },
      "execution_count": 104,
      "outputs": [
        {
          "output_type": "execute_result",
          "data": {
            "text/plain": [
              "0.992809406101064"
            ]
          },
          "metadata": {},
          "execution_count": 104
        }
      ]
    },
    {
      "cell_type": "code",
      "source": [
        "from sklearn.metrics import mean_absolute_error\n",
        "\n",
        "test_prediction = knr.predict(test_input)\n",
        "\n",
        "# The mean absolute error returns the average of the absolute differences between the observed values and the valuses predicted by the model\n",
        "mae = mean_absolute_error(test_target, test_prediction)\n",
        "print(mae)"
      ],
      "metadata": {
        "colab": {
          "base_uri": "https://localhost:8080/"
        },
        "id": "1i8uzGGQYRFy",
        "outputId": "ad115ba1-b693-48da-8f28-17ba04bebb9d"
      },
      "execution_count": 105,
      "outputs": [
        {
          "output_type": "stream",
          "name": "stdout",
          "text": [
            "19.157142857142862\n"
          ]
        }
      ]
    },
    {
      "cell_type": "code",
      "source": [
        "# The score of training dataset is lower than the score of test dataset, which mean the model is underfitted\n",
        "print(knr.score(train_input, train_target))\n",
        "print(knr.score(test_input, test_target))"
      ],
      "metadata": {
        "colab": {
          "base_uri": "https://localhost:8080/"
        },
        "id": "8x1-g7PdZ71x",
        "outputId": "704ab189-a8c6-450a-acf3-3120e9a05a24"
      },
      "execution_count": 106,
      "outputs": [
        {
          "output_type": "stream",
          "name": "stdout",
          "text": [
            "0.9698823289099254\n",
            "0.992809406101064\n"
          ]
        }
      ]
    },
    {
      "cell_type": "markdown",
      "source": [
        "## 3. Parameter Tuning to Solve Underfitting Issues"
      ],
      "metadata": {
        "id": "hibk6FMddejc"
      }
    },
    {
      "cell_type": "code",
      "source": [
        "# To make the model complicated and solve the underfitting issue, reduce the number of nearest neighbors\n",
        "\n",
        "knr.n_neighbors = 3\n",
        "\n",
        "knr.fit(train_input, train_target)\n",
        "\n",
        "print(knr.score(train_input, train_target))\n",
        "print(knr.score(test_input, test_target))"
      ],
      "metadata": {
        "colab": {
          "base_uri": "https://localhost:8080/"
        },
        "id": "WX8x96SNaXDw",
        "outputId": "158a979c-4427-4f91-e968-b1212b0d848b"
      },
      "execution_count": 107,
      "outputs": [
        {
          "output_type": "stream",
          "name": "stdout",
          "text": [
            "0.9804899950518966\n",
            "0.9746459963987609\n"
          ]
        }
      ]
    }
  ]
}